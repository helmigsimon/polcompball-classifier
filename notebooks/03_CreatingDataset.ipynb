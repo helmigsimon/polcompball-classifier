{
 "cells": [
  {
   "cell_type": "code",
   "execution_count": 65,
   "metadata": {},
   "outputs": [],
   "source": [
    "%load_ext autoreload\n",
    "%autoreload 2"
   ]
  },
  {
   "cell_type": "code",
   "execution_count": 60,
   "metadata": {},
   "outputs": [],
   "source": [
    "import pandas as pd\n",
    "import numpy as np\n",
    "from tqdm import tqdm\n",
    "import random"
   ]
  },
  {
   "cell_type": "code",
   "execution_count": 127,
   "metadata": {},
   "outputs": [],
   "source": [
    "import src.data.database as db\n",
    "from src.data.labeling import *"
   ]
  },
  {
   "cell_type": "code",
   "execution_count": 22,
   "metadata": {},
   "outputs": [],
   "source": [
    "def model_select_to_df(model_select):\n",
    "    return pd.DataFrame([x.__data__ for x in model_select]).drop('id',axis=1)"
   ]
  },
  {
   "cell_type": "code",
   "execution_count": 26,
   "metadata": {},
   "outputs": [],
   "source": [
    "ideology_df, comment_df = (model_select_to_df(x()) for x in (db.Ideology.select,db.Comment.select))"
   ]
  },
  {
   "cell_type": "code",
   "execution_count": 32,
   "metadata": {},
   "outputs": [
    {
     "data": {
      "text/html": [
       "<div>\n",
       "<style scoped>\n",
       "    .dataframe tbody tr th:only-of-type {\n",
       "        vertical-align: middle;\n",
       "    }\n",
       "\n",
       "    .dataframe tbody tr th {\n",
       "        vertical-align: top;\n",
       "    }\n",
       "\n",
       "    .dataframe thead th {\n",
       "        text-align: right;\n",
       "    }\n",
       "</style>\n",
       "<table border=\"1\" class=\"dataframe\">\n",
       "  <thead>\n",
       "    <tr style=\"text-align: right;\">\n",
       "      <th></th>\n",
       "      <th>submission</th>\n",
       "      <th>author</th>\n",
       "      <th>created_utc</th>\n",
       "      <th>body</th>\n",
       "      <th>permalink</th>\n",
       "      <th>score</th>\n",
       "    </tr>\n",
       "  </thead>\n",
       "  <tbody>\n",
       "    <tr>\n",
       "      <th>0</th>\n",
       "      <td>2</td>\n",
       "      <td>Roxxagon</td>\n",
       "      <td>1602812138</td>\n",
       "      <td>Yes, I know yellow text on white background is...</td>\n",
       "      <td>/r/Polcompball/comments/jc0oij/cursed_ancap/g8...</td>\n",
       "      <td>69.0</td>\n",
       "    </tr>\n",
       "    <tr>\n",
       "      <th>1</th>\n",
       "      <td>2</td>\n",
       "      <td>Roxxagon</td>\n",
       "      <td>1602863287</td>\n",
       "      <td>u/incendiarybullet wtf where did my ancom post...</td>\n",
       "      <td>/r/Polcompball/comments/jc0oij/cursed_ancap/g9...</td>\n",
       "      <td>1.0</td>\n",
       "    </tr>\n",
       "    <tr>\n",
       "      <th>2</th>\n",
       "      <td>4</td>\n",
       "      <td>PoliticsIsForNerds</td>\n",
       "      <td>1602847985</td>\n",
       "      <td>The Virgin [Piratism](https://polcompball.fand...</td>\n",
       "      <td>/r/Polcompball/comments/jc85yi/a_little_pirate...</td>\n",
       "      <td>126.0</td>\n",
       "    </tr>\n",
       "    <tr>\n",
       "      <th>3</th>\n",
       "      <td>5</td>\n",
       "      <td>Mr___Somebody</td>\n",
       "      <td>1602859141</td>\n",
       "      <td>Many thanks to [Not-A-Robot-2000](https://www....</td>\n",
       "      <td>/r/Polcompball/comments/jcaylv/helicopter_man/...</td>\n",
       "      <td>37.0</td>\n",
       "    </tr>\n",
       "    <tr>\n",
       "      <th>4</th>\n",
       "      <td>8</td>\n",
       "      <td>theDablerJPEG</td>\n",
       "      <td>1602892515</td>\n",
       "      <td>[Necrocracy](https://polcompball.fandom.com/wi...</td>\n",
       "      <td>/r/Polcompball/comments/jcl0sb/happy_halloween...</td>\n",
       "      <td>21.0</td>\n",
       "    </tr>\n",
       "    <tr>\n",
       "      <th>...</th>\n",
       "      <td>...</td>\n",
       "      <td>...</td>\n",
       "      <td>...</td>\n",
       "      <td>...</td>\n",
       "      <td>...</td>\n",
       "      <td>...</td>\n",
       "    </tr>\n",
       "    <tr>\n",
       "      <th>486</th>\n",
       "      <td>986</td>\n",
       "      <td>kehal12</td>\n",
       "      <td>1602712747</td>\n",
       "      <td>Update: Just realized I drew AnPrim upside dow...</td>\n",
       "      <td>/r/Polcompball/comments/jb6a5g/imperialism_get...</td>\n",
       "      <td>31.0</td>\n",
       "    </tr>\n",
       "    <tr>\n",
       "      <th>487</th>\n",
       "      <td>987</td>\n",
       "      <td>Based_and_Jedpilled</td>\n",
       "      <td>1602703899</td>\n",
       "      <td>u/AYYYYYYY1W   \\nIdeologies used are [Monarch...</td>\n",
       "      <td>/r/Polcompball/comments/jb7mof/he_is_a_monarch...</td>\n",
       "      <td>31.0</td>\n",
       "    </tr>\n",
       "    <tr>\n",
       "      <th>488</th>\n",
       "      <td>988</td>\n",
       "      <td>theDablerJPEG</td>\n",
       "      <td>1602713056</td>\n",
       "      <td>in order: [Soulism](https://polcompball.fandom...</td>\n",
       "      <td>/r/Polcompball/comments/jbanf5/who_says_you_ca...</td>\n",
       "      <td>31.0</td>\n",
       "    </tr>\n",
       "    <tr>\n",
       "      <th>489</th>\n",
       "      <td>989</td>\n",
       "      <td>theDablerJPEG</td>\n",
       "      <td>1602717314</td>\n",
       "      <td>[Technocracy](https://polcompball.fandom.com/w...</td>\n",
       "      <td>/r/Polcompball/comments/jbbx7o/the_real_differ...</td>\n",
       "      <td>17.0</td>\n",
       "    </tr>\n",
       "    <tr>\n",
       "      <th>490</th>\n",
       "      <td>991</td>\n",
       "      <td>Based_and_Jedpilled</td>\n",
       "      <td>1602786950</td>\n",
       "      <td>This was part of an Exquisite Corpse Collab st...</td>\n",
       "      <td>/r/Polcompball/comments/jbt9j4/fascinating_the...</td>\n",
       "      <td>115.0</td>\n",
       "    </tr>\n",
       "  </tbody>\n",
       "</table>\n",
       "<p>491 rows × 6 columns</p>\n",
       "</div>"
      ],
      "text/plain": [
       "     submission               author  created_utc  \\\n",
       "0             2             Roxxagon   1602812138   \n",
       "1             2             Roxxagon   1602863287   \n",
       "2             4   PoliticsIsForNerds   1602847985   \n",
       "3             5        Mr___Somebody   1602859141   \n",
       "4             8        theDablerJPEG   1602892515   \n",
       "..          ...                  ...          ...   \n",
       "486         986              kehal12   1602712747   \n",
       "487         987  Based_and_Jedpilled   1602703899   \n",
       "488         988        theDablerJPEG   1602713056   \n",
       "489         989        theDablerJPEG   1602717314   \n",
       "490         991  Based_and_Jedpilled   1602786950   \n",
       "\n",
       "                                                  body  \\\n",
       "0    Yes, I know yellow text on white background is...   \n",
       "1    u/incendiarybullet wtf where did my ancom post...   \n",
       "2    The Virgin [Piratism](https://polcompball.fand...   \n",
       "3    Many thanks to [Not-A-Robot-2000](https://www....   \n",
       "4    [Necrocracy](https://polcompball.fandom.com/wi...   \n",
       "..                                                 ...   \n",
       "486  Update: Just realized I drew AnPrim upside dow...   \n",
       "487   u/AYYYYYYY1W   \\nIdeologies used are [Monarch...   \n",
       "488  in order: [Soulism](https://polcompball.fandom...   \n",
       "489  [Technocracy](https://polcompball.fandom.com/w...   \n",
       "490  This was part of an Exquisite Corpse Collab st...   \n",
       "\n",
       "                                             permalink  score  \n",
       "0    /r/Polcompball/comments/jc0oij/cursed_ancap/g8...   69.0  \n",
       "1    /r/Polcompball/comments/jc0oij/cursed_ancap/g9...    1.0  \n",
       "2    /r/Polcompball/comments/jc85yi/a_little_pirate...  126.0  \n",
       "3    /r/Polcompball/comments/jcaylv/helicopter_man/...   37.0  \n",
       "4    /r/Polcompball/comments/jcl0sb/happy_halloween...   21.0  \n",
       "..                                                 ...    ...  \n",
       "486  /r/Polcompball/comments/jb6a5g/imperialism_get...   31.0  \n",
       "487  /r/Polcompball/comments/jb7mof/he_is_a_monarch...   31.0  \n",
       "488  /r/Polcompball/comments/jbanf5/who_says_you_ca...   31.0  \n",
       "489  /r/Polcompball/comments/jbbx7o/the_real_differ...   17.0  \n",
       "490  /r/Polcompball/comments/jbt9j4/fascinating_the...  115.0  \n",
       "\n",
       "[491 rows x 6 columns]"
      ]
     },
     "execution_count": 32,
     "metadata": {},
     "output_type": "execute_result"
    }
   ],
   "source": [
    "comment_df"
   ]
  },
  {
   "cell_type": "code",
   "execution_count": 249,
   "metadata": {},
   "outputs": [
    {
     "data": {
      "text/plain": [
       "'my first comic btw\\n\\nballs used: \\n\\n[Libertarian Monarchism](https://polcompball.fandom.com/wiki/Libertarian_Monarchism)\\n\\n[Democracy](https://polcompball.fandom.com/wiki/Democracy)\\n\\n[Tribalism](https://polcompball.fandom.com/wiki/Tribalism)\\n\\n[Authoritarian Democracy](https://polcompball.fandom.com/wiki/Democracy/Authoritarian_Democracy)\\n\\n[Kakistocracy](https://polcompball.fandom.com/wiki/Kakistocracy)'"
      ]
     },
     "execution_count": 249,
     "metadata": {},
     "output_type": "execute_result"
    }
   ],
   "source": [
    "x = comment_df.iloc[int(random.random()*len(comment_df)),3];x"
   ]
  },
  {
   "cell_type": "code",
   "execution_count": 250,
   "metadata": {},
   "outputs": [
    {
     "data": {
      "text/plain": [
       "'313, 95, 378, 97'"
      ]
     },
     "execution_count": 250,
     "metadata": {},
     "output_type": "execute_result"
    }
   ],
   "source": [
    "y = clean_comment_2(x);y"
   ]
  },
  {
   "cell_type": "code",
   "execution_count": null,
   "metadata": {},
   "outputs": [],
   "source": []
  }
 ],
 "metadata": {
  "kernelspec": {
   "display_name": "Python 3",
   "language": "python",
   "name": "python3"
  },
  "language_info": {
   "codemirror_mode": {
    "name": "ipython",
    "version": 3
   },
   "file_extension": ".py",
   "mimetype": "text/x-python",
   "name": "python",
   "nbconvert_exporter": "python",
   "pygments_lexer": "ipython3",
   "version": "3.8.3"
  }
 },
 "nbformat": 4,
 "nbformat_minor": 4
}
